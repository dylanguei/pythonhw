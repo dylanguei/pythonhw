{
  "nbformat": 4,
  "nbformat_minor": 0,
  "metadata": {
    "colab": {
      "provenance": [],
      "authorship_tag": "ABX9TyNkIJwZz5MvJ9iyIhslcDi0",
      "include_colab_link": true
    },
    "kernelspec": {
      "name": "python3",
      "display_name": "Python 3"
    },
    "language_info": {
      "name": "python"
    }
  },
  "cells": [
    {
      "cell_type": "markdown",
      "metadata": {
        "id": "view-in-github",
        "colab_type": "text"
      },
      "source": [
        "<a href=\"https://colab.research.google.com/github/dylanguei/pythonhw/blob/main/Untitled3.ipynb\" target=\"_parent\"><img src=\"https://colab.research.google.com/assets/colab-badge.svg\" alt=\"Open In Colab\"/></a>"
      ]
    },
    {
      "cell_type": "code",
      "execution_count": null,
      "metadata": {
        "colab": {
          "base_uri": "https://localhost:8080/"
        },
        "id": "NfFsVuKFGdps",
        "outputId": "b7e35bcf-1fcb-420d-aca5-9836ecb1c42f"
      },
      "outputs": [
        {
          "output_type": "stream",
          "name": "stdout",
          "text": [
            "\n",
            "輸入一字母: a\n",
            "_ a _ _ _ _ _ a _ _\n",
            "剩餘12回合\n",
            "\n",
            "輸入一字母: b\n",
            "b a _ _ _ _ b a _ _\n",
            "剩餘11回合\n"
          ]
        }
      ],
      "source": [
        "import random\n",
        "# 設計文字題庫\n",
        "words = ['hello','breakfast','information','basketball','car','apple','plane']\n",
        "word = random.choice(words)\n",
        "answer = word\n",
        "spaces = ['_']*len(word)\n",
        "# 設定猜測次數限制\n",
        "turn = len(word) + 3\n",
        "is_win = False\n",
        "# 確認猜字完成函數\n",
        "def check_win():\n",
        "  for space in spaces:\n",
        "    if (space == '_'):\n",
        "      return False\n",
        "  return True\n",
        "for turn_index in range(turn):\n",
        "  # 等待使用者輸入\n",
        "  guess = input('\\n輸入一字母: ')\n",
        "  # 檢查相同字母\n",
        "  for index , character in enumerate(word):\n",
        "      if (character == guess):\n",
        "          word = word[:index] + '*' + word[index+1:]\n",
        "          spaces[index] = character\n",
        "  # 判斷猜字完成\n",
        "  if (check_win()):\n",
        "    print(f\"恭喜猜對文字: {answer}\")\n",
        "    is_win = True\n",
        "    break\n",
        "  # 顯示目前結果\n",
        "  print(\" \".join(spaces))\n",
        "  # 顯示剩餘回合\n",
        "  if (turn_index != (turn -1) ):\n",
        "    print(f\"剩餘{turn - turn_index - 1}回合\")\n",
        "# 沒完成時的訊息\n",
        "if (not is_win):\n",
        "  print(f\"\\n抱歉，答案是{answer}\")"
      ]
    }
  ]
}