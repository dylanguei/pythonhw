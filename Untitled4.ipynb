{
  "nbformat": 4,
  "nbformat_minor": 0,
  "metadata": {
    "colab": {
      "provenance": [],
      "authorship_tag": "ABX9TyMmdSo5S5npy/cds8aAbH0X",
      "include_colab_link": true
    },
    "kernelspec": {
      "name": "python3",
      "display_name": "Python 3"
    },
    "language_info": {
      "name": "python"
    }
  },
  "cells": [
    {
      "cell_type": "markdown",
      "metadata": {
        "id": "view-in-github",
        "colab_type": "text"
      },
      "source": [
        "<a href=\"https://colab.research.google.com/github/dylanguei/pythonhw/blob/main/Untitled4.ipynb\" target=\"_parent\"><img src=\"https://colab.research.google.com/assets/colab-badge.svg\" alt=\"Open In Colab\"/></a>"
      ]
    },
    {
      "cell_type": "code",
      "execution_count": 3,
      "metadata": {
        "id": "IKknqEZzrlFg"
      },
      "outputs": [],
      "source": [
        "import numpy as np\n"
      ]
    },
    {
      "cell_type": "code",
      "source": [
        "\n",
        " x = np.array([1, 2, 3])\n",
        " x\n",
        "\n",
        " y = np.arange(10)  # 類似 Python 的 range, 但是回傳 array\n",
        " y\n"
      ],
      "metadata": {
        "colab": {
          "base_uri": "https://localhost:8080/"
        },
        "id": "oN7NDKy7s4DY",
        "outputId": "33fe42d0-d765-4522-b5e5-2c479a3c6c73"
      },
      "execution_count": 6,
      "outputs": [
        {
          "output_type": "execute_result",
          "data": {
            "text/plain": [
              "array([0, 1, 2, 3, 4, 5, 6, 7, 8, 9])"
            ]
          },
          "metadata": {},
          "execution_count": 6
        }
      ]
    },
    {
      "cell_type": "code",
      "source": [
        " a = np.array([1, 2, 3, 6])\n",
        " b = np.linspace(0, 2, 4)  # 建立一個array, 在0與2的範圍之間讓4個點3等分\n",
        " c = a - b\n",
        " c\n",
        "\n",
        " a**2\n"
      ],
      "metadata": {
        "colab": {
          "base_uri": "https://localhost:8080/"
        },
        "id": "ElhsodfAtPxZ",
        "outputId": "8231733b-8900-480b-f7bd-754656a33d86"
      },
      "execution_count": 7,
      "outputs": [
        {
          "output_type": "execute_result",
          "data": {
            "text/plain": [
              "array([ 1,  4,  9, 36])"
            ]
          },
          "metadata": {},
          "execution_count": 7
        }
      ]
    },
    {
      "cell_type": "code",
      "source": [
        " a = np.linspace(-np.pi, np.pi, 100)\n",
        " b = np.sin(a)\n",
        " c = np.cos(a)"
      ],
      "metadata": {
        "id": "p3kEQR-XtP5B"
      },
      "execution_count": 8,
      "outputs": []
    },
    {
      "cell_type": "code",
      "source": [
        " from numpy.random import rand\n",
        " from numpy.linalg import solve, inv\n",
        " a = np.array([[1, 2, 3], [3, 4, 6.7], [5, 9.0, 5]])\n",
        " a.transpose()\n"
      ],
      "metadata": {
        "colab": {
          "base_uri": "https://localhost:8080/"
        },
        "id": "zHCxAAVhur1Q",
        "outputId": "0077d589-f1b7-46f2-cd67-7fb8a121aa9d"
      },
      "execution_count": 9,
      "outputs": [
        {
          "output_type": "execute_result",
          "data": {
            "text/plain": [
              "array([[1. , 3. , 5. ],\n",
              "       [2. , 4. , 9. ],\n",
              "       [3. , 6.7, 5. ]])"
            ]
          },
          "metadata": {},
          "execution_count": 9
        }
      ]
    }
  ]
}